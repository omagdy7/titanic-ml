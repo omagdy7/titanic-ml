{
 "cells": [
  {
   "cell_type": "markdown",
   "id": "65a83ce0-e8a2-4498-a0a9-15fe8da672d8",
   "metadata": {},
   "source": [
    "# Imports"
   ]
  },
  {
   "cell_type": "code",
   "execution_count": 64,
   "id": "36ed4640-1371-4260-9d98-76ec9d758848",
   "metadata": {},
   "outputs": [],
   "source": [
    "import pandas as pd\n",
    "import matplotlib.pyplot as plt\n",
    "from sklearn.model_selection import GridSearchCV\n",
    "from sklearn.metrics import roc_curve, roc_auc_score\n",
    "from sklearn.model_selection import train_test_split\n",
    "from sklearn.naive_bayes import GaussianNB\n",
    "from sklearn.svm import SVC\n",
    "from sklearn.neighbors import KNeighborsClassifier\n",
    "from sklearn.metrics import precision_score, recall_score, f1_score"
   ]
  },
  {
   "cell_type": "markdown",
   "id": "eeeeaa62-17e9-40b9-a5b8-41fa75409e14",
   "metadata": {},
   "source": [
    "# Load the training dataset"
   ]
  },
  {
   "cell_type": "code",
   "execution_count": 7,
   "id": "83de54d1-69df-4a11-96aa-23cb10b38c0d",
   "metadata": {},
   "outputs": [],
   "source": [
    "train_path = '../data/train/train.csv'\n",
    "train_data = pd.read_csv(train_path)"
   ]
  },
  {
   "cell_type": "markdown",
   "id": "77c16d8c-02e4-4e8a-89ed-379f2aa6d7ca",
   "metadata": {},
   "source": [
    "# Load the test dataset"
   ]
  },
  {
   "cell_type": "code",
   "execution_count": 50,
   "id": "fe42d6cb-f8b2-433a-81db-aaaffb42754d",
   "metadata": {},
   "outputs": [],
   "source": [
    "test_path = '../data/test/test.csv'\n",
    "test_data = pd.read_csv(test_path)\n",
    "real_test_data = pd.read_csv(test_path)\n",
    "test_data.Age.fillna(test_data.Age.median(), inplace=True)\n",
    "test_data.Fare.fillna(test_data.Fare.median(), inplace=True)\n",
    "\n",
    "selected_columns = ['Pclass', 'Sex', 'Age', 'SibSp', 'Parch', 'Fare']\n",
    "# Merge survived column for accuracy test aginst test data\n",
    "test_data = test_data[selected_columns]\n",
    "X_test = pd.get_dummies(X_test, columns=['Sex'])"
   ]
  },
  {
   "cell_type": "code",
   "execution_count": 51,
   "id": "ee1c0899-a2ed-4abb-ab22-cefc6d16bef9",
   "metadata": {},
   "outputs": [
    {
     "data": {
      "text/html": [
       "<div>\n",
       "<style scoped>\n",
       "    .dataframe tbody tr th:only-of-type {\n",
       "        vertical-align: middle;\n",
       "    }\n",
       "\n",
       "    .dataframe tbody tr th {\n",
       "        vertical-align: top;\n",
       "    }\n",
       "\n",
       "    .dataframe thead th {\n",
       "        text-align: right;\n",
       "    }\n",
       "</style>\n",
       "<table border=\"1\" class=\"dataframe\">\n",
       "  <thead>\n",
       "    <tr style=\"text-align: right;\">\n",
       "      <th></th>\n",
       "      <th>Pclass</th>\n",
       "      <th>Age</th>\n",
       "      <th>SibSp</th>\n",
       "      <th>Parch</th>\n",
       "      <th>Fare</th>\n",
       "      <th>Sex_female</th>\n",
       "      <th>Sex_male</th>\n",
       "    </tr>\n",
       "  </thead>\n",
       "  <tbody>\n",
       "    <tr>\n",
       "      <th>0</th>\n",
       "      <td>3</td>\n",
       "      <td>34.5</td>\n",
       "      <td>0</td>\n",
       "      <td>0</td>\n",
       "      <td>7.8292</td>\n",
       "      <td>0</td>\n",
       "      <td>1</td>\n",
       "    </tr>\n",
       "    <tr>\n",
       "      <th>1</th>\n",
       "      <td>3</td>\n",
       "      <td>47.0</td>\n",
       "      <td>1</td>\n",
       "      <td>0</td>\n",
       "      <td>7.0000</td>\n",
       "      <td>1</td>\n",
       "      <td>0</td>\n",
       "    </tr>\n",
       "    <tr>\n",
       "      <th>2</th>\n",
       "      <td>2</td>\n",
       "      <td>62.0</td>\n",
       "      <td>0</td>\n",
       "      <td>0</td>\n",
       "      <td>9.6875</td>\n",
       "      <td>0</td>\n",
       "      <td>1</td>\n",
       "    </tr>\n",
       "    <tr>\n",
       "      <th>3</th>\n",
       "      <td>3</td>\n",
       "      <td>27.0</td>\n",
       "      <td>0</td>\n",
       "      <td>0</td>\n",
       "      <td>8.6625</td>\n",
       "      <td>0</td>\n",
       "      <td>1</td>\n",
       "    </tr>\n",
       "    <tr>\n",
       "      <th>4</th>\n",
       "      <td>3</td>\n",
       "      <td>22.0</td>\n",
       "      <td>1</td>\n",
       "      <td>1</td>\n",
       "      <td>12.2875</td>\n",
       "      <td>1</td>\n",
       "      <td>0</td>\n",
       "    </tr>\n",
       "    <tr>\n",
       "      <th>...</th>\n",
       "      <td>...</td>\n",
       "      <td>...</td>\n",
       "      <td>...</td>\n",
       "      <td>...</td>\n",
       "      <td>...</td>\n",
       "      <td>...</td>\n",
       "      <td>...</td>\n",
       "    </tr>\n",
       "    <tr>\n",
       "      <th>413</th>\n",
       "      <td>3</td>\n",
       "      <td>27.0</td>\n",
       "      <td>0</td>\n",
       "      <td>0</td>\n",
       "      <td>8.0500</td>\n",
       "      <td>0</td>\n",
       "      <td>1</td>\n",
       "    </tr>\n",
       "    <tr>\n",
       "      <th>414</th>\n",
       "      <td>1</td>\n",
       "      <td>39.0</td>\n",
       "      <td>0</td>\n",
       "      <td>0</td>\n",
       "      <td>108.9000</td>\n",
       "      <td>1</td>\n",
       "      <td>0</td>\n",
       "    </tr>\n",
       "    <tr>\n",
       "      <th>415</th>\n",
       "      <td>3</td>\n",
       "      <td>38.5</td>\n",
       "      <td>0</td>\n",
       "      <td>0</td>\n",
       "      <td>7.2500</td>\n",
       "      <td>0</td>\n",
       "      <td>1</td>\n",
       "    </tr>\n",
       "    <tr>\n",
       "      <th>416</th>\n",
       "      <td>3</td>\n",
       "      <td>27.0</td>\n",
       "      <td>0</td>\n",
       "      <td>0</td>\n",
       "      <td>8.0500</td>\n",
       "      <td>0</td>\n",
       "      <td>1</td>\n",
       "    </tr>\n",
       "    <tr>\n",
       "      <th>417</th>\n",
       "      <td>3</td>\n",
       "      <td>27.0</td>\n",
       "      <td>1</td>\n",
       "      <td>1</td>\n",
       "      <td>22.3583</td>\n",
       "      <td>0</td>\n",
       "      <td>1</td>\n",
       "    </tr>\n",
       "  </tbody>\n",
       "</table>\n",
       "<p>418 rows × 7 columns</p>\n",
       "</div>"
      ],
      "text/plain": [
       "     Pclass   Age  SibSp  Parch      Fare  Sex_female  Sex_male\n",
       "0         3  34.5      0      0    7.8292           0         1\n",
       "1         3  47.0      1      0    7.0000           1         0\n",
       "2         2  62.0      0      0    9.6875           0         1\n",
       "3         3  27.0      0      0    8.6625           0         1\n",
       "4         3  22.0      1      1   12.2875           1         0\n",
       "..      ...   ...    ...    ...       ...         ...       ...\n",
       "413       3  27.0      0      0    8.0500           0         1\n",
       "414       1  39.0      0      0  108.9000           1         0\n",
       "415       3  38.5      0      0    7.2500           0         1\n",
       "416       3  27.0      0      0    8.0500           0         1\n",
       "417       3  27.0      1      1   22.3583           0         1\n",
       "\n",
       "[418 rows x 7 columns]"
      ]
     },
     "execution_count": 51,
     "metadata": {},
     "output_type": "execute_result"
    }
   ],
   "source": [
    "X_test"
   ]
  },
  {
   "cell_type": "markdown",
   "id": "b455440d-bcb0-4138-8f2a-9c34789e7b45",
   "metadata": {},
   "source": [
    "# Select only relevant colums of data"
   ]
  },
  {
   "cell_type": "code",
   "execution_count": 52,
   "id": "194fecde-30ed-4583-b818-190929854722",
   "metadata": {},
   "outputs": [],
   "source": [
    "selected_columns = ['Pclass', 'Sex', 'Age', 'SibSp', 'Parch', 'Fare', 'Survived']\n",
    "data_selected = train_data[selected_columns]"
   ]
  },
  {
   "cell_type": "markdown",
   "id": "5fb792b6-078e-4f29-9849-1dd659c3c650",
   "metadata": {},
   "source": [
    "### Age data is missing some data"
   ]
  },
  {
   "cell_type": "code",
   "execution_count": 53,
   "id": "44f116db-68bb-4775-8121-d1dfd0cdd597",
   "metadata": {},
   "outputs": [
    {
     "name": "stdout",
     "output_type": "stream",
     "text": [
      "<class 'pandas.core.frame.DataFrame'>\n",
      "RangeIndex: 891 entries, 0 to 890\n",
      "Data columns (total 7 columns):\n",
      " #   Column    Non-Null Count  Dtype  \n",
      "---  ------    --------------  -----  \n",
      " 0   Pclass    891 non-null    int64  \n",
      " 1   Sex       891 non-null    object \n",
      " 2   Age       714 non-null    float64\n",
      " 3   SibSp     891 non-null    int64  \n",
      " 4   Parch     891 non-null    int64  \n",
      " 5   Fare      891 non-null    float64\n",
      " 6   Survived  891 non-null    int64  \n",
      "dtypes: float64(2), int64(4), object(1)\n",
      "memory usage: 48.9+ KB\n"
     ]
    }
   ],
   "source": [
    "data_selected.info()"
   ]
  },
  {
   "cell_type": "markdown",
   "id": "d93addc4-2558-4c68-b4fd-817bfbd9d260",
   "metadata": {},
   "source": [
    "### Fill missing data with median"
   ]
  },
  {
   "cell_type": "code",
   "execution_count": 54,
   "id": "eee9fa49-9672-48d8-aebe-dcbc593e025b",
   "metadata": {},
   "outputs": [
    {
     "name": "stderr",
     "output_type": "stream",
     "text": [
      "/tmp/ipykernel_140061/1801840652.py:1: SettingWithCopyWarning: \n",
      "A value is trying to be set on a copy of a slice from a DataFrame\n",
      "\n",
      "See the caveats in the documentation: https://pandas.pydata.org/pandas-docs/stable/user_guide/indexing.html#returning-a-view-versus-a-copy\n",
      "  data_selected.Age.fillna(data_selected.Age.median(), inplace=True)\n"
     ]
    }
   ],
   "source": [
    "data_selected.Age.fillna(data_selected.Age.median(), inplace=True)"
   ]
  },
  {
   "cell_type": "code",
   "execution_count": 55,
   "id": "65d509ff-152c-4e4a-baa6-91a0a32036dc",
   "metadata": {},
   "outputs": [
    {
     "name": "stdout",
     "output_type": "stream",
     "text": [
      "<class 'pandas.core.frame.DataFrame'>\n",
      "RangeIndex: 891 entries, 0 to 890\n",
      "Data columns (total 7 columns):\n",
      " #   Column    Non-Null Count  Dtype  \n",
      "---  ------    --------------  -----  \n",
      " 0   Pclass    891 non-null    int64  \n",
      " 1   Sex       891 non-null    object \n",
      " 2   Age       891 non-null    float64\n",
      " 3   SibSp     891 non-null    int64  \n",
      " 4   Parch     891 non-null    int64  \n",
      " 5   Fare      891 non-null    float64\n",
      " 6   Survived  891 non-null    int64  \n",
      "dtypes: float64(2), int64(4), object(1)\n",
      "memory usage: 48.9+ KB\n"
     ]
    }
   ],
   "source": [
    "data_selected.info()"
   ]
  },
  {
   "cell_type": "markdown",
   "id": "ceac42dc-3ddf-495a-8f3b-fc2251b3b38b",
   "metadata": {},
   "source": [
    "## Separate the features and target variable"
   ]
  },
  {
   "cell_type": "code",
   "execution_count": 56,
   "id": "a4de1a36-ee60-47bd-a8c5-1f61c5307c51",
   "metadata": {},
   "outputs": [],
   "source": [
    "X = data_selected.drop('Survived', axis=1)  # Features\n",
    "y = data_selected['Survived']  # Target variable"
   ]
  },
  {
   "cell_type": "code",
   "execution_count": 57,
   "id": "03ca3084-6060-4407-a46c-36604fc7a089",
   "metadata": {},
   "outputs": [
    {
     "data": {
      "text/html": [
       "<div>\n",
       "<style scoped>\n",
       "    .dataframe tbody tr th:only-of-type {\n",
       "        vertical-align: middle;\n",
       "    }\n",
       "\n",
       "    .dataframe tbody tr th {\n",
       "        vertical-align: top;\n",
       "    }\n",
       "\n",
       "    .dataframe thead th {\n",
       "        text-align: right;\n",
       "    }\n",
       "</style>\n",
       "<table border=\"1\" class=\"dataframe\">\n",
       "  <thead>\n",
       "    <tr style=\"text-align: right;\">\n",
       "      <th></th>\n",
       "      <th>Pclass</th>\n",
       "      <th>Sex</th>\n",
       "      <th>Age</th>\n",
       "      <th>SibSp</th>\n",
       "      <th>Parch</th>\n",
       "      <th>Fare</th>\n",
       "    </tr>\n",
       "  </thead>\n",
       "  <tbody>\n",
       "    <tr>\n",
       "      <th>0</th>\n",
       "      <td>3</td>\n",
       "      <td>male</td>\n",
       "      <td>22.0</td>\n",
       "      <td>1</td>\n",
       "      <td>0</td>\n",
       "      <td>7.2500</td>\n",
       "    </tr>\n",
       "    <tr>\n",
       "      <th>1</th>\n",
       "      <td>1</td>\n",
       "      <td>female</td>\n",
       "      <td>38.0</td>\n",
       "      <td>1</td>\n",
       "      <td>0</td>\n",
       "      <td>71.2833</td>\n",
       "    </tr>\n",
       "    <tr>\n",
       "      <th>2</th>\n",
       "      <td>3</td>\n",
       "      <td>female</td>\n",
       "      <td>26.0</td>\n",
       "      <td>0</td>\n",
       "      <td>0</td>\n",
       "      <td>7.9250</td>\n",
       "    </tr>\n",
       "    <tr>\n",
       "      <th>3</th>\n",
       "      <td>1</td>\n",
       "      <td>female</td>\n",
       "      <td>35.0</td>\n",
       "      <td>1</td>\n",
       "      <td>0</td>\n",
       "      <td>53.1000</td>\n",
       "    </tr>\n",
       "    <tr>\n",
       "      <th>4</th>\n",
       "      <td>3</td>\n",
       "      <td>male</td>\n",
       "      <td>35.0</td>\n",
       "      <td>0</td>\n",
       "      <td>0</td>\n",
       "      <td>8.0500</td>\n",
       "    </tr>\n",
       "  </tbody>\n",
       "</table>\n",
       "</div>"
      ],
      "text/plain": [
       "   Pclass     Sex   Age  SibSp  Parch     Fare\n",
       "0       3    male  22.0      1      0   7.2500\n",
       "1       1  female  38.0      1      0  71.2833\n",
       "2       3  female  26.0      0      0   7.9250\n",
       "3       1  female  35.0      1      0  53.1000\n",
       "4       3    male  35.0      0      0   8.0500"
      ]
     },
     "execution_count": 57,
     "metadata": {},
     "output_type": "execute_result"
    }
   ],
   "source": [
    "X.head()"
   ]
  },
  {
   "cell_type": "markdown",
   "id": "f2d6c724-d663-420f-b09e-be236364841a",
   "metadata": {},
   "source": [
    "### We can see that Sex is categorized with strings we will need to encode it as numbers"
   ]
  },
  {
   "cell_type": "code",
   "execution_count": 58,
   "id": "48c28c2c-ac66-432a-970d-2dd9154db890",
   "metadata": {},
   "outputs": [],
   "source": [
    "# Convert Sex variables to numerical using one-hot encoding\n",
    "X_encoded = pd.get_dummies(X, columns=['Sex'])"
   ]
  },
  {
   "cell_type": "code",
   "execution_count": 59,
   "id": "09688ec9-f03f-488f-b814-683c1537aff3",
   "metadata": {},
   "outputs": [
    {
     "data": {
      "text/html": [
       "<div>\n",
       "<style scoped>\n",
       "    .dataframe tbody tr th:only-of-type {\n",
       "        vertical-align: middle;\n",
       "    }\n",
       "\n",
       "    .dataframe tbody tr th {\n",
       "        vertical-align: top;\n",
       "    }\n",
       "\n",
       "    .dataframe thead th {\n",
       "        text-align: right;\n",
       "    }\n",
       "</style>\n",
       "<table border=\"1\" class=\"dataframe\">\n",
       "  <thead>\n",
       "    <tr style=\"text-align: right;\">\n",
       "      <th></th>\n",
       "      <th>Pclass</th>\n",
       "      <th>Age</th>\n",
       "      <th>SibSp</th>\n",
       "      <th>Parch</th>\n",
       "      <th>Fare</th>\n",
       "      <th>Sex_female</th>\n",
       "      <th>Sex_male</th>\n",
       "    </tr>\n",
       "  </thead>\n",
       "  <tbody>\n",
       "    <tr>\n",
       "      <th>0</th>\n",
       "      <td>3</td>\n",
       "      <td>22.0</td>\n",
       "      <td>1</td>\n",
       "      <td>0</td>\n",
       "      <td>7.2500</td>\n",
       "      <td>0</td>\n",
       "      <td>1</td>\n",
       "    </tr>\n",
       "    <tr>\n",
       "      <th>1</th>\n",
       "      <td>1</td>\n",
       "      <td>38.0</td>\n",
       "      <td>1</td>\n",
       "      <td>0</td>\n",
       "      <td>71.2833</td>\n",
       "      <td>1</td>\n",
       "      <td>0</td>\n",
       "    </tr>\n",
       "    <tr>\n",
       "      <th>2</th>\n",
       "      <td>3</td>\n",
       "      <td>26.0</td>\n",
       "      <td>0</td>\n",
       "      <td>0</td>\n",
       "      <td>7.9250</td>\n",
       "      <td>1</td>\n",
       "      <td>0</td>\n",
       "    </tr>\n",
       "    <tr>\n",
       "      <th>3</th>\n",
       "      <td>1</td>\n",
       "      <td>35.0</td>\n",
       "      <td>1</td>\n",
       "      <td>0</td>\n",
       "      <td>53.1000</td>\n",
       "      <td>1</td>\n",
       "      <td>0</td>\n",
       "    </tr>\n",
       "    <tr>\n",
       "      <th>4</th>\n",
       "      <td>3</td>\n",
       "      <td>35.0</td>\n",
       "      <td>0</td>\n",
       "      <td>0</td>\n",
       "      <td>8.0500</td>\n",
       "      <td>0</td>\n",
       "      <td>1</td>\n",
       "    </tr>\n",
       "    <tr>\n",
       "      <th>...</th>\n",
       "      <td>...</td>\n",
       "      <td>...</td>\n",
       "      <td>...</td>\n",
       "      <td>...</td>\n",
       "      <td>...</td>\n",
       "      <td>...</td>\n",
       "      <td>...</td>\n",
       "    </tr>\n",
       "    <tr>\n",
       "      <th>886</th>\n",
       "      <td>2</td>\n",
       "      <td>27.0</td>\n",
       "      <td>0</td>\n",
       "      <td>0</td>\n",
       "      <td>13.0000</td>\n",
       "      <td>0</td>\n",
       "      <td>1</td>\n",
       "    </tr>\n",
       "    <tr>\n",
       "      <th>887</th>\n",
       "      <td>1</td>\n",
       "      <td>19.0</td>\n",
       "      <td>0</td>\n",
       "      <td>0</td>\n",
       "      <td>30.0000</td>\n",
       "      <td>1</td>\n",
       "      <td>0</td>\n",
       "    </tr>\n",
       "    <tr>\n",
       "      <th>888</th>\n",
       "      <td>3</td>\n",
       "      <td>28.0</td>\n",
       "      <td>1</td>\n",
       "      <td>2</td>\n",
       "      <td>23.4500</td>\n",
       "      <td>1</td>\n",
       "      <td>0</td>\n",
       "    </tr>\n",
       "    <tr>\n",
       "      <th>889</th>\n",
       "      <td>1</td>\n",
       "      <td>26.0</td>\n",
       "      <td>0</td>\n",
       "      <td>0</td>\n",
       "      <td>30.0000</td>\n",
       "      <td>0</td>\n",
       "      <td>1</td>\n",
       "    </tr>\n",
       "    <tr>\n",
       "      <th>890</th>\n",
       "      <td>3</td>\n",
       "      <td>32.0</td>\n",
       "      <td>0</td>\n",
       "      <td>0</td>\n",
       "      <td>7.7500</td>\n",
       "      <td>0</td>\n",
       "      <td>1</td>\n",
       "    </tr>\n",
       "  </tbody>\n",
       "</table>\n",
       "<p>891 rows × 7 columns</p>\n",
       "</div>"
      ],
      "text/plain": [
       "     Pclass   Age  SibSp  Parch     Fare  Sex_female  Sex_male\n",
       "0         3  22.0      1      0   7.2500           0         1\n",
       "1         1  38.0      1      0  71.2833           1         0\n",
       "2         3  26.0      0      0   7.9250           1         0\n",
       "3         1  35.0      1      0  53.1000           1         0\n",
       "4         3  35.0      0      0   8.0500           0         1\n",
       "..      ...   ...    ...    ...      ...         ...       ...\n",
       "886       2  27.0      0      0  13.0000           0         1\n",
       "887       1  19.0      0      0  30.0000           1         0\n",
       "888       3  28.0      1      2  23.4500           1         0\n",
       "889       1  26.0      0      0  30.0000           0         1\n",
       "890       3  32.0      0      0   7.7500           0         1\n",
       "\n",
       "[891 rows x 7 columns]"
      ]
     },
     "execution_count": 59,
     "metadata": {},
     "output_type": "execute_result"
    }
   ],
   "source": [
    "X_encoded"
   ]
  },
  {
   "cell_type": "markdown",
   "id": "0b07083d-7b69-4799-8699-05ed4b4551db",
   "metadata": {},
   "source": [
    "## Split the data into training and validation sets"
   ]
  },
  {
   "cell_type": "code",
   "execution_count": 60,
   "id": "48979e23-e700-41f6-9087-65bd316048fc",
   "metadata": {},
   "outputs": [],
   "source": [
    "X_train, X_val, y_train, y_val = train_test_split(X_encoded, y, test_size=0.2, random_state=42)"
   ]
  },
  {
   "cell_type": "markdown",
   "id": "0da421b0-1360-4474-b345-31100a9715a2",
   "metadata": {},
   "source": [
    "# SVM"
   ]
  },
  {
   "cell_type": "code",
   "execution_count": 73,
   "id": "935422c5-f928-42aa-9f3f-507edacd01e3",
   "metadata": {},
   "outputs": [
    {
     "ename": "TypeError",
     "evalue": "SVC.__init__() got an unexpected keyword argument 'probablity'",
     "output_type": "error",
     "traceback": [
      "\u001b[0;31m---------------------------------------------------------------------------\u001b[0m",
      "\u001b[0;31mTypeError\u001b[0m                                 Traceback (most recent call last)",
      "Cell \u001b[0;32mIn[73], line 2\u001b[0m\n\u001b[1;32m      1\u001b[0m \u001b[38;5;66;03m# Initialize the svm classifier\u001b[39;00m\n\u001b[0;32m----> 2\u001b[0m svm_classifier \u001b[38;5;241m=\u001b[39m \u001b[43mSVC\u001b[49m\u001b[43m(\u001b[49m\u001b[43mkernel\u001b[49m\u001b[38;5;241;43m=\u001b[39;49m\u001b[38;5;124;43m'\u001b[39;49m\u001b[38;5;124;43mrbf\u001b[39;49m\u001b[38;5;124;43m'\u001b[39;49m\u001b[43m,\u001b[49m\u001b[43m \u001b[49m\u001b[43mC\u001b[49m\u001b[38;5;241;43m=\u001b[39;49m\u001b[38;5;241;43m100\u001b[39;49m\u001b[43m \u001b[49m\u001b[43m,\u001b[49m\u001b[43mprobablity\u001b[49m\u001b[38;5;241;43m=\u001b[39;49m\u001b[38;5;28;43;01mTrue\u001b[39;49;00m\u001b[43m,\u001b[49m\u001b[43m \u001b[49m\u001b[43mrandom_state\u001b[49m\u001b[38;5;241;43m=\u001b[39;49m\u001b[38;5;241;43m42\u001b[39;49m\u001b[43m)\u001b[49m  \u001b[38;5;66;03m# You can specify the number of neighbors (K) here\u001b[39;00m\n\u001b[1;32m      4\u001b[0m \u001b[38;5;66;03m# Train the svm model\u001b[39;00m\n\u001b[1;32m      5\u001b[0m svm_classifier\u001b[38;5;241m.\u001b[39mfit(X_train, y_train)\n",
      "\u001b[0;31mTypeError\u001b[0m: SVC.__init__() got an unexpected keyword argument 'probablity'"
     ]
    }
   ],
   "source": [
    "# Initialize the svm classifier\n",
    "svm_classifier = SVC(kernel='rbf', C=100, probablity=True, random_state=42)  # You can specify the number of neighbors (K) here\n",
    "\n",
    "# Train the svm model\n",
    "svm_classifier.fit(X_train, y_train)\n",
    "\n",
    "# Make predictions on the validation set\n",
    "svm_predictions = svm_classifier.predict(X_val)\n",
    "\n",
    "# Evaluate the accuracy of the svm model on the validation set\n",
    "svm_accuracy = accuracy_score(y_val, svm_predictions)\n",
    "svm_precision = precision_score(y_val, svm_predictions)\n",
    "svm_recall = recall_score(y_val, svm_predictions)\n",
    "svm_f1 = f1_score(y_val, svm_predictions)\n",
    "\n",
    "# Display evaluation metrics for svm\n",
    "print(\"\\nEvaluation Metrics for svm:\")\n",
    "print(f\"Accuracy: {svm_accuracy:.2f}\")\n",
    "print(f\"Precision: {svm_precision:.2f}\")\n",
    "print(f\"Recall: {svm_recall:.2f}\")\n",
    "print(f\"F1-score: {svm_f1:.2f}\")\n",
    "\n",
    "y_pred_proba = svm_classifier.predict_proba(X_val)[:, 1]  # Extract probabilities for the positive class\n",
    "fpr, tpr, thresholds = roc_curve(y_val, y_pred_proba)\n",
    "auc = roc_auc_score(y_val, y_pred_proba)\n",
    "\n",
    "# Plot ROC curve\n",
    "plt.figure(figsize=(8, 6))\n",
    "plt.plot(fpr, tpr, label=f'AUC = {auc:.2f}')\n",
    "plt.plot([0, 1], [0, 1], linestyle='--', color='gray')\n",
    "plt.xlabel('False Positive Rate')\n",
    "plt.ylabel('True Positive Rate')\n",
    "plt.title('ROC Curve')\n",
    "plt.legend()\n",
    "plt.show()\n",
    "\n",
    "print(f\"AUC: {auc:.2f}\")\n"
   ]
  },
  {
   "cell_type": "code",
   "execution_count": null,
   "id": "80a80288-1a66-43b1-8e0c-2162a7b2f7d9",
   "metadata": {},
   "outputs": [],
   "source": [
    "# Initialize the KNN classifier\n",
    "knn_classifier = KNeighborsClassifier(n_neighbors=20,probablity=True, algorithm='brute')  # You can specify the number of neighbors (K) here\n",
    "\n",
    "# Train the KNN model\n",
    "knn_classifier.fit(X_train, y_train)\n",
    "\n",
    "# Make predictions on the validation set\n",
    "knn_predictions = knn_classifier.predict(X_val)\n",
    "\n",
    "# Evaluate the accuracy of the KNN model on the validation set\n",
    "knn_accuracy = accuracy_score(y_val, knn_predictions)\n",
    "knn_precision = precision_score(y_val, knn_predictions)\n",
    "knn_recall = recall_score(y_val, knn_predictions)\n",
    "knn_f1 = f1_score(y_val, knn_predictions)\n",
    "\n",
    "# Display evaluation metrics for KNN\n",
    "print(\"\\nEvaluation Metrics for KNN:\")\n",
    "print(f\"Accuracy: {knn_accuracy:.2f}\")\n",
    "print(f\"Precision: {knn_precision:.2f}\")\n",
    "print(f\"Recall: {knn_recall:.2f}\")\n",
    "print(f\"F1-score: {knn_f1:.2f}\")\n",
    "\n",
    "y_pred_proba = knn_classifier.predict_proba(X_val)[:, 1]  # Extract probabilities for the positive class\n",
    "fpr, tpr, thresholds = roc_curve(y_val, y_pred_proba)\n",
    "auc = roc_auc_score(y_val, y_pred_proba)\n",
    "\n",
    "# Plot ROC curve\n",
    "plt.figure(figsize=(8, 6))\n",
    "plt.plot(fpr, tpr, label=f'AUC = {auc:.2f}')\n",
    "plt.plot([0, 1], [0, 1], linestyle='--', color='gray')\n",
    "plt.xlabel('False Positive Rate')\n",
    "plt.ylabel('True Positive Rate')\n",
    "plt.title('ROC Curve')\n",
    "plt.legend()\n",
    "plt.show()\n",
    "\n",
    "print(f\"AUC: {auc:.2f}\")"
   ]
  },
  {
   "cell_type": "markdown",
   "id": "96b4e00c-a585-4e91-ae8e-e726af572589",
   "metadata": {},
   "source": [
    "# KNN"
   ]
  },
  {
   "cell_type": "code",
   "execution_count": 71,
   "id": "761dae04-5fa1-48bb-aa27-26eb0524b0e1",
   "metadata": {},
   "outputs": [
    {
     "ename": "TypeError",
     "evalue": "KNeighborsClassifier.__init__() got an unexpected keyword argument 'probablity'",
     "output_type": "error",
     "traceback": [
      "\u001b[0;31m---------------------------------------------------------------------------\u001b[0m",
      "\u001b[0;31mTypeError\u001b[0m                                 Traceback (most recent call last)",
      "Cell \u001b[0;32mIn[71], line 2\u001b[0m\n\u001b[1;32m      1\u001b[0m \u001b[38;5;66;03m# Initialize the KNN classifier\u001b[39;00m\n\u001b[0;32m----> 2\u001b[0m knn_classifier \u001b[38;5;241m=\u001b[39m \u001b[43mKNeighborsClassifier\u001b[49m\u001b[43m(\u001b[49m\u001b[43mn_neighbors\u001b[49m\u001b[38;5;241;43m=\u001b[39;49m\u001b[38;5;241;43m20\u001b[39;49m\u001b[43m,\u001b[49m\u001b[43mprobablity\u001b[49m\u001b[38;5;241;43m=\u001b[39;49m\u001b[38;5;28;43;01mTrue\u001b[39;49;00m\u001b[43m,\u001b[49m\u001b[43m \u001b[49m\u001b[43malgorithm\u001b[49m\u001b[38;5;241;43m=\u001b[39;49m\u001b[38;5;124;43m'\u001b[39;49m\u001b[38;5;124;43mbrute\u001b[39;49m\u001b[38;5;124;43m'\u001b[39;49m\u001b[43m)\u001b[49m  \u001b[38;5;66;03m# You can specify the number of neighbors (K) here\u001b[39;00m\n\u001b[1;32m      4\u001b[0m \u001b[38;5;66;03m# Train the KNN model\u001b[39;00m\n\u001b[1;32m      5\u001b[0m knn_classifier\u001b[38;5;241m.\u001b[39mfit(X_train, y_train)\n",
      "\u001b[0;31mTypeError\u001b[0m: KNeighborsClassifier.__init__() got an unexpected keyword argument 'probablity'"
     ]
    }
   ],
   "source": [
    "# Initialize the KNN classifier\n",
    "knn_classifier = KNeighborsClassifier(n_neighbors=20,probablity=True, algorithm='brute')  # You can specify the number of neighbors (K) here\n",
    "\n",
    "# Train the KNN model\n",
    "knn_classifier.fit(X_train, y_train)\n",
    "\n",
    "# Make predictions on the validation set\n",
    "knn_predictions = knn_classifier.predict(X_val)\n",
    "\n",
    "# Evaluate the accuracy of the KNN model on the validation set\n",
    "knn_accuracy = accuracy_score(y_val, knn_predictions)\n",
    "knn_precision = precision_score(y_val, knn_predictions)\n",
    "knn_recall = recall_score(y_val, knn_predictions)\n",
    "knn_f1 = f1_score(y_val, knn_predictions)\n",
    "\n",
    "# Display evaluation metrics for KNN\n",
    "print(\"\\nEvaluation Metrics for KNN:\")\n",
    "print(f\"Accuracy: {knn_accuracy:.2f}\")\n",
    "print(f\"Precision: {knn_precision:.2f}\")\n",
    "print(f\"Recall: {knn_recall:.2f}\")\n",
    "print(f\"F1-score: {knn_f1:.2f}\")\n",
    "\n",
    "y_pred_proba = knn_classifier.predict_proba(X_val)[:, 1]  # Extract probabilities for the positive class\n",
    "fpr, tpr, thresholds = roc_curve(y_val, y_pred_proba)\n",
    "auc = roc_auc_score(y_val, y_pred_proba)\n",
    "\n",
    "# Plot ROC curve\n",
    "plt.figure(figsize=(8, 6))\n",
    "plt.plot(fpr, tpr, label=f'AUC = {auc:.2f}')\n",
    "plt.plot([0, 1], [0, 1], linestyle='--', color='gray')\n",
    "plt.xlabel('False Positive Rate')\n",
    "plt.ylabel('True Positive Rate')\n",
    "plt.title('ROC Curve')\n",
    "plt.legend()\n",
    "plt.show()\n",
    "\n",
    "print(f\"AUC: {auc:.2f}\")"
   ]
  },
  {
   "cell_type": "markdown",
   "id": "2d2be5c3-e16f-41ae-8e42-0cc68344feb4",
   "metadata": {},
   "source": [
    "# Bayes Classifier"
   ]
  },
  {
   "cell_type": "code",
   "execution_count": 63,
   "id": "109e0a8f-048e-4c8d-b685-a470cc6a3f86",
   "metadata": {},
   "outputs": [
    {
     "name": "stdout",
     "output_type": "stream",
     "text": [
      "\n",
      "Evaluation Metrics for nb:\n",
      "Accuracy: 0.79\n",
      "Precision: 0.76\n",
      "Recall: 0.72\n",
      "F1-score: 0.74\n"
     ]
    }
   ],
   "source": [
    "# Initialize the Gaussian Naive Bayes classifier\n",
    "nb_classifier = GaussianNB()\n",
    "\n",
    "# Train the Naive Bayes model\n",
    "nb_classifier.fit(X_train, y_train)\n",
    "\n",
    "# Make predictions on the validation set\n",
    "nb_predictions = nb_classifier.predict(X_val)\n",
    "\n",
    "nb_accuracy = accuracy_score(y_val, nb_predictions)\n",
    "nb_precision = precision_score(y_val, nb_predictions)\n",
    "nb_recall = recall_score(y_val, nb_predictions)\n",
    "nb_f1 = f1_score(y_val, nb_predictions)\n",
    "\n",
    "# Display evaluation metrics for nb\n",
    "print(\"\\nEvaluation Metrics for nb:\")\n",
    "print(f\"Accuracy: {nb_accuracy:.2f}\")\n",
    "print(f\"Precision: {nb_precision:.2f}\")\n",
    "print(f\"Recall: {nb_recall:.2f}\")\n",
    "print(f\"F1-score: {nb_f1:.2f}\")"
   ]
  },
  {
   "cell_type": "code",
   "execution_count": null,
   "id": "09dcd2e3-a7d4-41d9-ab8d-64ecae8495b5",
   "metadata": {},
   "outputs": [],
   "source": []
  }
 ],
 "metadata": {
  "kernelspec": {
   "display_name": "Python 3 (ipykernel)",
   "language": "python",
   "name": "python3"
  },
  "language_info": {
   "codemirror_mode": {
    "name": "ipython",
    "version": 3
   },
   "file_extension": ".py",
   "mimetype": "text/x-python",
   "name": "python",
   "nbconvert_exporter": "python",
   "pygments_lexer": "ipython3",
   "version": "3.11.6"
  }
 },
 "nbformat": 4,
 "nbformat_minor": 5
}
